{
  "nbformat": 4,
  "nbformat_minor": 0,
  "metadata": {
    "colab": {
      "provenance": [],
      "collapsed_sections": [
        "gUD6gTBF38WN"
      ],
      "authorship_tag": "ABX9TyPNel6iW7/2wkVfJnJaTCbV",
      "include_colab_link": true
    },
    "kernelspec": {
      "name": "python3",
      "display_name": "Python 3"
    },
    "language_info": {
      "name": "python"
    }
  },
  "cells": [
    {
      "cell_type": "markdown",
      "metadata": {
        "id": "view-in-github",
        "colab_type": "text"
      },
      "source": [
        "<a href=\"https://colab.research.google.com/github/michelllepan/ml-project-generator/blob/main/project_generator.ipynb\" target=\"_parent\"><img src=\"https://colab.research.google.com/assets/colab-badge.svg\" alt=\"Open In Colab\"/></a>"
      ]
    },
    {
      "cell_type": "code",
      "source": [
        "#@title Enter your Cohere API key\n",
        "api_key = \"\" #@param {type:\"string\"}"
      ],
      "metadata": {
        "cellView": "form",
        "id": "XyPdviahKD6x"
      },
      "execution_count": null,
      "outputs": []
    },
    {
      "cell_type": "markdown",
      "source": [
        "# Set up environment"
      ],
      "metadata": {
        "id": "gUD6gTBF38WN"
      }
    },
    {
      "cell_type": "code",
      "source": [
        "!pip install cohere"
      ],
      "metadata": {
        "colab": {
          "base_uri": "https://localhost:8080/"
        },
        "id": "sLpkmiT14B2k",
        "outputId": "8a027ad5-fc33-4c78-9f9f-41d531e03d68"
      },
      "execution_count": null,
      "outputs": [
        {
          "output_type": "stream",
          "name": "stdout",
          "text": [
            "Looking in indexes: https://pypi.org/simple, https://us-python.pkg.dev/colab-wheels/public/simple/\n",
            "Requirement already satisfied: cohere in /usr/local/lib/python3.7/dist-packages (2.9.1)\n",
            "Requirement already satisfied: requests in /usr/local/lib/python3.7/dist-packages (from cohere) (2.23.0)\n",
            "Requirement already satisfied: certifi>=2017.4.17 in /usr/local/lib/python3.7/dist-packages (from requests->cohere) (2022.9.24)\n",
            "Requirement already satisfied: urllib3!=1.25.0,!=1.25.1,<1.26,>=1.21.1 in /usr/local/lib/python3.7/dist-packages (from requests->cohere) (1.24.3)\n",
            "Requirement already satisfied: chardet<4,>=3.0.2 in /usr/local/lib/python3.7/dist-packages (from requests->cohere) (3.0.4)\n",
            "Requirement already satisfied: idna<3,>=2.5 in /usr/local/lib/python3.7/dist-packages (from requests->cohere) (2.10)\n"
          ]
        }
      ]
    },
    {
      "cell_type": "code",
      "source": [
        "from IPython.display import HTML, display\n",
        "\n",
        "def set_css():\n",
        "  display(HTML('''\n",
        "  <style>\n",
        "    pre {\n",
        "        white-space: pre-wrap;\n",
        "    }\n",
        "  </style>\n",
        "  '''))\n",
        "get_ipython().events.register('pre_run_cell', set_css)"
      ],
      "metadata": {
        "id": "oI5Hw9hN8PP3"
      },
      "execution_count": null,
      "outputs": []
    },
    {
      "cell_type": "code",
      "source": [
        "import random\n",
        "import cohere\n",
        "co = cohere.Client(api_key)"
      ],
      "metadata": {
        "id": "kumXtIRr4Jxm"
      },
      "execution_count": null,
      "outputs": []
    },
    {
      "cell_type": "code",
      "source": [
        "projects = {\n",
        "    \"Launchkart\": \"Develop an intelligent Mario Kart agent that can replicate the skill and technique of a human player using behavior cloning algorithms.\",\n",
        "    \"Lil' Speare\": \"Converting rap lyrics to Shakespearian-style text using Transformers and RNNs. The 1500's never looked so dope.\",\n",
        "    \"Reconstructor\": \"Creating high-quality 3D reconstructions from photos of our own. Each member will choose variable scenes and items to reconstruct with NeRF and various follow up methods.\",\n",
        "    \"Duet\": \"Experiment with a VQ-VAE based network for converting audio to the style of another audio file.\",\n",
        "    \"Inflection\": \"Create a voice conversion model framework for voice assistants, implementing data generation, spectral analysis, and an Amazon Lex-based web app.\",\n",
        "    \"Lucinator\": \"Build a production ready virtual assistant chatbot with robust machine learning pipelines and slack integration.\",\n",
        "    \"Phodexr\": \"Enable semantic search through images and other mediums in a zero-shot manner with CLIP.\",\n",
        "    \"Scribe\": \"Few-shot meta learning to learn handwriting styles and generate similar handwritten text using GANs.\",\n",
        "    \"RosettaCV\": \"Build an encoder for images that can perform few-shot training across CV tasks using unsupervised learning.\",\n",
        "    \"Shallow Sleep\": \"Explore adversarial models to track sleep stages by comparing results from watch and radio frequency data to brain wave data.\",\n",
        "    \"Strategist\": \"Develop a profitable trading strategy for the market today based on common technical indicators.\",\n",
        "    \"rAIse\": \"Create an AI web app using Monte Carlo sampling, deep and reinforcement learning to play heads up and nine handed no-limit Texas Hold'em poker.\",\n",
        "    \"Illustrator\": \"A pictionary-like web game with a bot to generate and classify sketches.\",\n",
        "    \"Interact\": \"Building models that detect, contextualize, and identify relationships between humans and objects in images.\",\n",
        "    \"Memories\": \"A web app where users can upload pictures from their photo album and generate ambient sounds and songs from the image’s scenery and emotion.\",\n",
        "    \"Watchman\": \"Merging information between multiple cameras to track objects of interest accurately in 3D spaces.\",\n",
        "    \"Brawl\": \"Training state of the art reinforcement learning agents to play the popular game, Super Smash Bros Melee.\",\n",
        "    \"Backyard IoT\": \"Animal information and tracking using a CNN with Raspberry Pi to send information to the cloud.\",\n",
        "    \"Emergence\": \"Reinforcement learning in competitive environments for simulating intelligence.\",\n",
        "    \"Evolve\": \"Universal codebook for image compression using evolutionary-based optimization methods.\",\n",
        "    \"Inspector\": \"Fake news detecting Chrome extension incorporating NLP techniques and stance detections.\",\n",
        "    \"Orchestrator\": \"Converting music between different styles/instrumentations using encoder-decoder networks in PyTorch.\",\n",
        "    \"BalliNN\": \"NBA playoff performance prediction from regular season data using statistical learning and neural networks.\",\n",
        "    \"ClairVoyance\": \"Weather forecasting using high-resolution video frame prediction using CNNs and RNNs.\",\n",
        "    \"Musecage\": \"Answering visual questions using image and word embeddings and recurrent attention algorithms.\",\n",
        "    \"Snapshot\": \"Beautifying Berkeley with a #filter created with CycleGAN, an image to image translation neural network.\",\n",
        "    \"SpeculateAI\": \"Stock market trend prediction using NLP and time series analysis.\",\n",
        "    \"Darklight\": \"Improving existing convolutional neural network architecture for real-time low-light image inferencing.\",\n",
        "    \"Dream\": \"Generative models for reinforcement learning to attain high performance with simplicity.\",\n",
        "    \"Explorer\": \"Analyzing exploration and curiosity-based techniques in deep reinforcement learning.\",\n",
        "    \"GrubGen\": \"Food image generation using generative adversarial networks.\",\n",
        "    \"Danger Sense\": \"Detecting and responding to dangerous driving situation by predicting collisions and road closures.\",\n",
        "    \"MOR\": \"Multi-Objective Robotics solution for efficient and adaptive robot operation.\",\n",
        "    \"MeTal\": \"Meta learning and multi-task learning.\",\n",
        "    \"Facelift\": \"Augmenting low-fidelity images of 2D faces using 3D facial reconstruction.\",\n",
        "    \"Jazz!\": \"Generating jazz melodies in specified styles using Markov chains and clustering.\",\n",
        "    \"DeepBeat\": \"Polyphonic music generation using deep neural networks.\",\n",
        "    \"Sherlock\": \"Building a human-centric computer vision API that provides optimized algorithms for object detection and tracking.\",\n",
        "    \"Stella\": \"Voice controlled computers using natural language processing.\",\n",
        "}"
      ],
      "metadata": {
        "id": "s1gHgNRi4P-c"
      },
      "execution_count": null,
      "outputs": []
    },
    {
      "cell_type": "markdown",
      "source": [
        "# Generate new projects"
      ],
      "metadata": {
        "id": "r-LPw95u4Fji"
      }
    },
    {
      "cell_type": "markdown",
      "source": [
        "Run the cell below to generate a project name and description! Feel free to tune the temperature to your liking.\n",
        "\n",
        "From the Cohere API: Temperature is a non-negative float that tunes the degree of randomness in generation. Lower temperatures mean less random generations. See [Temperature](https://docs.cohere.ai/docs/temperature) for more details."
      ],
      "metadata": {
        "id": "WKKocduW4a-R"
      }
    },
    {
      "cell_type": "code",
      "source": [
        "temperature = 3.5 #@param {type:\"slider\", min:0, max:5, step:0.1}\n",
        "\n",
        "prompt = \"This is a project generator for creative machine learning projects.\\n\\n\"\n",
        "project_pairs = list(projects.items())\n",
        "for p, d in random.sample(project_pairs, 12):\n",
        "  prompt += \"Name: \" + p + \"\\n\"\n",
        "  prompt += \"Description: \" + d + \"\\n---\"\n",
        "\n",
        "response = co.generate(  \n",
        "    model=\"1e041e0e-b905-4646-a4ce-a3c6235a802e-ft\",  \n",
        "    prompt=prompt,  \n",
        "    max_tokens=40,  \n",
        "    temperature=temperature, \n",
        "    stop_sequences=[\"---\"],\n",
        "  )\n",
        "\n",
        "print(response.generations[0].text)"
      ],
      "metadata": {
        "colab": {
          "base_uri": "https://localhost:8080/"
        },
        "cellView": "form",
        "id": "xNdlImfkZHUy",
        "outputId": "48e2541d-666a-4dde-c1f1-87dfd5765db6"
      },
      "execution_count": null,
      "outputs": [
        {
          "output_type": "stream",
          "name": "stdout",
          "text": [
            "Name: Polychrome\n",
            "Description: Model object shape changes from image to image using transfer learning.\n",
            "---\n"
          ]
        }
      ]
    },
    {
      "cell_type": "markdown",
      "source": [
        "# Name projects from their descriptions"
      ],
      "metadata": {
        "id": "s5eM4g7p56DG"
      }
    },
    {
      "cell_type": "markdown",
      "source": [
        "Enter a project description below and receive a name for it! Try to keep descriptions to one sentence, like those listed on the [Launchpad website](https://launchpad.berkeley.edu/projects/).\n",
        "\n",
        "Feel free to tune the temperature to your liking."
      ],
      "metadata": {
        "id": "R8xdJ4w17toh"
      }
    },
    {
      "cell_type": "code",
      "source": [
        "description = \"Generating creative machine learning project ideas using large language models.\" #@param {type:\"string\"}\n",
        "temperature = 3 #@param {type:\"slider\", min:0, max:5, step:0.1}\n",
        "\n",
        "prompt = \"\"\"This is a project name generator for creative machine learning projects.\n",
        "            Project names may include puns and funny wordplay.\\n\\n\"\"\"\n",
        "project_pairs = list(projects.items())\n",
        "for p, d in project_pairs:\n",
        "  prompt += \"Project Description: \" + d + \"\\n\"\n",
        "  prompt += \"Project Name: \" + p + \"\\n---\"\n",
        "\n",
        "prompt += \"Project Description: \" + description + \"\\n\"\n",
        "prompt += \"Project Name:\"\n",
        "\n",
        "response = co.generate(  \n",
        "    model=\"xlarge\",\n",
        "    prompt=prompt,  \n",
        "    max_tokens=40,\n",
        "    temperature=temperature,  \n",
        "    stop_sequences=[\"---\"],\n",
        "  )\n",
        "\n",
        "print(\"Description:\", description)\n",
        "print(\"Name:\", response.generations[0].text)"
      ],
      "metadata": {
        "colab": {
          "base_uri": "https://localhost:8080/",
          "height": 71
        },
        "cellView": "form",
        "id": "YUX1LjPAcTv8",
        "outputId": "a6995abd-4424-490b-efc8-6096ba875a7b"
      },
      "execution_count": null,
      "outputs": [
        {
          "output_type": "display_data",
          "data": {
            "text/plain": [
              "<IPython.core.display.HTML object>"
            ],
            "text/html": [
              "\n",
              "  <style>\n",
              "    pre {\n",
              "        white-space: pre-wrap;\n",
              "    }\n",
              "  </style>\n",
              "  "
            ]
          },
          "metadata": {}
        },
        {
          "output_type": "stream",
          "name": "stdout",
          "text": [
            "Description: Generating creative machine learning project ideas using large language models.\n",
            "Name:  BrainFry\n",
            "---\n"
          ]
        }
      ]
    }
  ]
}